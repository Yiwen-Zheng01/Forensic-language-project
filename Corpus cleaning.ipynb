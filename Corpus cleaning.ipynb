{
 "cells": [
  {
   "cell_type": "markdown",
   "id": "624f71bc-3b3a-48ee-a3f9-469c9528c73f",
   "metadata": {},
   "source": [
    "Convert PDF files to TXT files"
   ]
  },
  {
   "cell_type": "code",
   "execution_count": null,
   "id": "83dd1eb0-4661-428d-96dc-c399a10c6537",
   "metadata": {},
   "outputs": [],
   "source": [
    "import fitz  # PyMuPDF\n",
    "import os\n",
    "import glob"
   ]
  },
  {
   "cell_type": "code",
   "execution_count": null,
   "id": "ceed5571-0c57-4989-a6fb-f6f7c2dc7671",
   "metadata": {},
   "outputs": [],
   "source": [
    "def pdf_to_text(pdf_path, txt_path):\n",
    "    # Ensure the output directory exists\n",
    "    os.makedirs(os.path.dirname(txt_path), exist_ok=True)\n",
    "\n",
    "    # Open the provided PDF file\n",
    "    document = fitz.open(pdf_path)\n",
    "\n",
    "    # Write text to the corresponding text file using UTF-8 encoding\n",
    "    with open(txt_path, 'w', encoding='utf-8') as text_file:\n",
    "        for page_num in range(len(document)):\n",
    "            # Get the page\n",
    "            page = document.load_page(page_num)\n",
    "            \n",
    "            # Extract text from the page and write it to the text file using UTF-8 encoding\n",
    "            text = page.get_text(\"text\")\n",
    "            text_file.write(text)\n",
    "    \n",
    "    # Close the document\n",
    "    document.close()\n",
    "    print(f\"Converted: {pdf_path} -> {txt_path}\")\n",
    "\n",
    "def process_folder(base_folder, output_folder):\n",
    "    # Iterate over all PDF files in the base folder and its subfolders\n",
    "    for pdf_path in glob.glob(os.path.join(base_folder, '**/*.pdf'), recursive=True):\n",
    "        #rename the text file name based on the PDF file name\n",
    "        txt_filename = os.path.splitext(os.path.basename(pdf_path))[0] + '.txt'\n",
    "        txt_path = os.path.join(output_folder, txt_filename)\n",
    "\n",
    "        # convert the PDF to text\n",
    "        pdf_to_text(pdf_path, txt_path)\n",
    "\n",
    "# call the function\n",
    "base_folder = r\"D:\\Corpora\\nyed\\nyed\\docs\"  \n",
    "output_folder = r\"D:\\processed txt files\"  \n",
    "process_folder(base_folder, output_folder)"
   ]
  },
  {
   "cell_type": "markdown",
   "id": "23111472-ba28-4bab-9466-a0a98b16e4f2",
   "metadata": {},
   "source": [
    "Re-arrange the files based on year"
   ]
  },
  {
   "cell_type": "code",
   "execution_count": null,
   "id": "4bb7722d-0169-4c4c-a09c-3582f1caf581",
   "metadata": {},
   "outputs": [],
   "source": [
    "import re\n",
    "import shutil"
   ]
  },
  {
   "cell_type": "code",
   "execution_count": null,
   "id": "7c9a13ad-0a7c-40ff-a1e4-cd9a2dda3c5e",
   "metadata": {},
   "outputs": [],
   "source": [
    "def extract_year_from_text(text_content):\n",
    "    match = re.search(r'Filed \\d{2}/\\d{2}/(\\d{2})', text_content)\n",
    "    if match:\n",
    "        return \"20\" + match.group(1)\n",
    "    return \"unknown\"\n",
    "\n",
    "def reorganize_text_files(file_path, base_output_folder):\n",
    "    print(f\"Processing {file_path}...\")\n",
    "    try:\n",
    "        with open(file_path, 'r', encoding='utf-8') as file:\n",
    "            content = file.read()\n",
    "            year = extract_year_from_text(content)\n",
    "\n",
    "        year_folder = os.path.join(base_output_folder, year)\n",
    "        os.makedirs(year_folder, exist_ok=True)\n",
    "        destination_path = os.path.join(year_folder, os.path.basename(file_path))\n",
    "\n",
    "        # Move the file to the year folder\n",
    "        shutil.move(file_path, destination_path)\n",
    "        \n",
    "        print(f\"File moved: {file_path} -> {destination_path}\")\n",
    "    except Exception as e:\n",
    "        print(f\"Error processing {file_path}: {e}\")\n",
    "\n",
    "def process_folder(base_folder, base_output_folder):\n",
    "    txt_files = glob.glob(os.path.join(base_folder, '**/*.txt'), recursive=True)\n",
    "    if not txt_files:\n",
    "        print(\"No text files found in the directory.\")\n",
    "        return\n",
    "    \n",
    "    for file_path in txt_files:\n",
    "        reorganize_text_files(file_path, base_output_folder)\n",
    "\n",
    "# call the function\n",
    "base_folder = r\"D:\\processed txt files\"  \n",
    "base_output_folder = r\"D:\\rearrange_files\"  \n",
    "process_folder(base_folder, base_output_folder)"
   ]
  },
  {
   "cell_type": "code",
   "execution_count": null,
   "id": "0644fd82-7baa-4012-a632-8876bf190791",
   "metadata": {},
   "outputs": [],
   "source": [
    "Descriptive statistics of the corpus"
   ]
  },
  {
   "cell_type": "code",
   "execution_count": null,
   "id": "12b1cd44-ca10-4535-9f0b-fc25051dc184",
   "metadata": {},
   "outputs": [],
   "source": [
    "def count_files_and_words(base_folder):\n",
    "    # Dictionary to store the count of files and words for each subfolder\n",
    "    folder_counts = {}\n",
    "    \n",
    "    # Iterate through each directory and subdirectory in the base folder\n",
    "    for root, dirs, files in os.walk(base_folder):\n",
    "        txt_files = [file for file in files if file.endswith('.txt')]\n",
    "        num_files = len(txt_files)\n",
    "        total_words = 0\n",
    "\n",
    "        # Count words in each text file\n",
    "        for txt_file in txt_files:\n",
    "            file_path = os.path.join(root, txt_file)\n",
    "            with open(file_path, 'r', encoding='utf-8') as file:\n",
    "                words = file.read().split()\n",
    "                total_words += len(words)\n",
    "        \n",
    "        # Only add to dictionary if there are .txt files\n",
    "        if num_files > 0:\n",
    "            folder_name = os.path.basename(root)\n",
    "            folder_counts[folder_name] = {'files': num_files, 'words': total_words}\n",
    "\n",
    "    # Print and return the counts\n",
    "    total_files = 0\n",
    "    total_words = 0\n",
    "    for folder, counts in folder_counts.items():\n",
    "        print(f\"{folder}: {counts['files']} files, {counts['words']} words\")\n",
    "        total_files += counts['files']\n",
    "        total_words += counts['words']\n",
    "\n",
    "    print(f\"Total: {total_files} files, {total_words} words\")\n",
    "    return folder_counts\n",
    "\n",
    "# Example usage\n",
    "base_folder = r\"D:\\pro_re_rank\"  # Replace with your base folder path\n",
    "count_files_and_words(base_folder)"
   ]
  }
 ],
 "metadata": {
  "kernelspec": {
   "display_name": "Python 3 (ipykernel)",
   "language": "python",
   "name": "python3"
  },
  "language_info": {
   "codemirror_mode": {
    "name": "ipython",
    "version": 3
   },
   "file_extension": ".py",
   "mimetype": "text/x-python",
   "name": "python",
   "nbconvert_exporter": "python",
   "pygments_lexer": "ipython3",
   "version": "3.12.0"
  }
 },
 "nbformat": 4,
 "nbformat_minor": 5
}
